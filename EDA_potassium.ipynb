{
  "cells": [
    {
      "cell_type": "code",
      "execution_count": 1,
      "metadata": {},
      "outputs": [],
      "source": [
        "import dataiku\n",
        "import pandas as pd\n",
        "import numpy as np\n",
        "import seaborn as sns\n",
        "import matplotlib.pyplot as plt"
      ]
    },
    {
      "cell_type": "markdown",
      "metadata": {},
      "source": [
        "Here data should be loaded etc."
      ]
    },
    {
      "cell_type": "markdown",
      "metadata": {},
      "source": [
        "# Weather data (KNMI)"
      ]
    },
    {
      "cell_type": "markdown",
      "metadata": {},
      "source": [
        "Source: https://www.knmi.nl/nederland-nu/klimatologie/uurgegevens"
      ]
    },
    {
      "cell_type": "markdown",
      "metadata": {},
      "source": [
        "**Column Meaning**\n",
        "\n",
        "**YYYYMMDD**  = datum (YYYY=jaar,MM=maand,DD=dag) / date (YYYY=year,MM=month,DD=day) <br>\n",
        "**HH**        = Time (HH uur/hour, UT. 12 UT=13 MET, 14 MEZT. Hourly division 05 runs from 04.00 UT to 5.00 UT <br>\n",
        "**DD**        = Mean wind direction (in degrees) during the 10-minute period preceding the time of observation (360=north, 90=east, 180=south, 270=west, 0=calm 990=variable) <br>\n",
        "**FH**        = Hourly mean wind speed (in 0.1 m/s) <br>\n",
        "**FF**        = Mean wind speed (in 0.1 m/s) during the 10-minute period preceding the time of observation <br>\n",
        "**FX**        = Maximum wind gust (in 0.1 m/s) during the hourly division <br>\n",
        "**T**        = Temperature (in 0.1 degrees Celsius) at 1.50 m at the time of observation <br>\n",
        "**T10N**      = Minimum temperature (in 0.1 degrees Celsius) at 0.1 m inthe preceding 6-hour period <br>\n",
        "**TD**        = Dew point temperature (in 0.1 degrees Celsius) at 1.50 m at the time of observation <br>\n",
        "**SQ**        = Sunshine duration (in 0.1 hour) during the hourly division, calculated from global radiation (-1 for <0.05 hour) <br>\n",
        "**Q**        = Global radiation (in J/cm2) during the hourly division <br>\n",
        "**DR**        = Precipitation duration (in 0.1 hour) during the hourly division<br>\n",
        "**RH**        = Hourly precipitation amount (in 0.1 mm) (-1 for <0.05 mm) <br>\n",
        "**P**        = Air pressure (in 0.1 hPa) reduced to mean sea level, at the time of observation <br>\n",
        "**VV**        = Horizontal visibility at the time of observation (0=less than 100m, 1=100-200m, 2=200-300m,..., 49=4900-5000m, 50=5-6km, 56=6-7km, 57=7-8km, ..., 79=29-30km, 80=30-35km, 81=35-40km,..., 89=more than 70km)<br>\n",
        "**N**        = Cloud cover (in octants), at the time of observation (9=sky invisible) <br>\n",
        "**U**        = Relative atmospheric humidity (in percents) at 1.50 m at the time of observation <br>\n",
        "**WW**        = Present weather code (00-99), description for the hourly division. <br>\n",
        "**IX**        = Indicator present weather code (1=manned and recorded (using code from visual observations), 2,3=manned and omitted (no significant weather phenomenon to report, not available), 4=automatically recorded (using code from visual observations), 5,6=automatically omitted (no significant weather phenomenon to report, not available), 7=automatically set (using code from automated observations) <br>\n",
        "**M**        = Fog 0=no occurrence, 1=occurred during the preceding hour and/or at the time of observation <br>\n",
        "**R**        = Rainfall 0=no occurrence, 1=occurred duringthe preceding hour and/or at the time of observation <br>\n",
        "**S**        = Snow 0=no occurrence, 1=occurred during the preceding hour and/or at the time of observation <br>\n",
        "**O**        = Thunder  0=no occurrence, 1=occurred during the preceding hour and/or at the time of observation <br>\n",
        "**Y**        = Ice formation 0=no occurrence, 1=occurred during the preceding hour and/or at the time of observation <br>"
      ]
    },
    {
      "cell_type": "code",
      "execution_count": 9,
      "metadata": {},
      "outputs": [],
      "source": [
        "knmi_df['YYYYMMDD'] = pd.to_datetime(knmi_df['YYYYMMDD'], format='%Y%m%d')"
      ]
    },
    {
      "cell_type": "code",
      "execution_count": 10,
      "metadata": {},
      "outputs": [],
      "source": [
        "knmi_df_day = knmi_df.groupby(['YYYYMMDD']).agg(temp=('T','mean'), humidity=('U', 'mean')).reset_index()\n",
        "\n",
        "# convert from 0.1 degrees to degrees\n",
        "knmi_df_day['temp'] = knmi_df_day['temp'] / 10"
      ]
    },
    {
      "cell_type": "markdown",
      "metadata": {},
      "source": [
        "Unused columns should be removed here"
      ]
    },
    {
      "cell_type": "markdown",
      "metadata": {},
      "source": [
        "# Filter Potassium"
      ]
    },
    {
      "cell_type": "code",
      "execution_count": 12,
      "metadata": {},
      "outputs": [],
      "source": [
        "# first drop rows where Potassium is missing\n",
        "df.dropna(subset=['pos_level'], inplace=True)"
      ]
    },
    {
      "cell_type": "code",
      "execution_count": null,
      "metadata": {},
      "outputs": [],
      "source": [
        "fig = plt.figure(figsize=(14,4))\n",
        "sns.histplot(data=df, x=\"pos_level\", kde=True, stat='percent')\n",
        "plt.show()"
      ]
    },
    {
      "cell_type": "code",
      "execution_count": null,
      "metadata": {
        "scrolled": true
      },
      "outputs": [],
      "source": [
        "# Look at the odd values below 0.4\n",
        "df[df['pos_level'] < 0.4]"
      ]
    },
    {
      "cell_type": "code",
      "execution_count": 16,
      "metadata": {},
      "outputs": [],
      "source": [
        "df.drop(df[df['pos_level'] < 0.4].index  , inplace=True)"
      ]
    },
    {
      "cell_type": "code",
      "execution_count": 17,
      "metadata": {},
      "outputs": [],
      "source": [
        "df.reset_index(drop=True, inplace=True)"
      ]
    },
    {
      "cell_type": "markdown",
      "metadata": {
        "heading_collapsed": true
      },
      "source": [
        "# EDA"
      ]
    },
    {
      "cell_type": "markdown",
      "metadata": {
        "hidden": true
      },
      "source": [
        "**Boxplot feature against Potassium**"
      ]
    },
    {
      "cell_type": "code",
      "execution_count": 18,
      "metadata": {
        "hidden": true
      },
      "outputs": [],
      "source": [
        "def boxplot_feature(df, feature, display_samples = False):\n",
        "    '''\n",
        "    Displays a boxplot of the selected feature per each production run and also per dataset (all production runs).\n",
        "\n",
        "    * If display_samples is True, then the full dataset plot will also include all the point samples from each group.\n",
        "    * bin_type refers to the binning method:\n",
        "        - unifo\n",
        "    '''\n",
        "    fig, ax = plt.subplots(nrows=2, ncols=1, figsize=(16,10))\n",
        "    \n",
        "    # per production run\n",
        "    bp = sns.boxplot(ax = ax[0], x=\"Production_run\", y=\"pos_level\", data=df, showmeans=True, hue=feature,\n",
        "               meanprops={\"marker\": \"_\", \"markeredgecolor\": \"red\", \"markersize\": \"20\", 'markeredgewidth':'3' })\n",
        "    ax[0].set(title=f'Potassium content against {feature} for each Production run', ylabel='Potassium')\n",
        "\n",
        "    # for all the dataset\n",
        "    bp = sns.boxplot(ax = ax[1], x=feature, y=\"pos_level\", data=df, showmeans=True,\n",
        "                     meanprops={\"marker\": \"_\", \"markeredgecolor\": \"red\", \"markersize\": \"20\", 'markeredgewidth':'3' })\n",
        "    ax[1].set(title=f'Potassium content against {feature} for all data', ylabel='Potassium')\n",
        "    if display_samples:\n",
        "        ax = sns.swarmplot(x=feature, y=\"pos_level\", data=df, color=\".25\")\n",
        "        \n",
        "    fig.suptitle(f'Influence of {feature} on Potassium (Red line shows the average)', fontsize = 16)\n",
        "\n",
        "    fig.tight_layout()\n",
        "    plt.show()"
      ]
    },
    {
      "cell_type": "markdown",
      "metadata": {
        "hidden": true
      },
      "source": [
        "**We will use an exploratory dataframe from now on**"
      ]
    },
    {
      "cell_type": "code",
      "execution_count": 40,
      "metadata": {
        "hidden": true
      },
      "outputs": [],
      "source": [
        "dfe = df.copy()"
      ]
    },
    {
      "cell_type": "markdown",
      "metadata": {
        "heading_collapsed": true,
        "hidden": true
      },
      "source": [
        "## PR_cursor"
      ]
    },
    {
      "cell_type": "markdown",
      "metadata": {},
      "source": [
        "This shows for each production run where the sample is in the production. Low numbers are the first produced batches, higher numbers are the later produced batches"
      ]
    },
    {
      "cell_type": "code",
      "execution_count": 19,
      "metadata": {
        "hidden": true
      },
      "outputs": [],
      "source": [
        "dfe['PR_cursor'] = 1\n",
        "dfe['PR_cursor'] = dfe[['Production_run','PR_cursor']].groupby(['Production_run']).cumsum()"
      ]
    },
    {
      "cell_type": "code",
      "execution_count": null,
      "metadata": {
        "hidden": true
      },
      "outputs": [],
      "source": [
        "dfe['PR_cursor'].value_counts().plot.bar(figsize=(14,4));"
      ]
    },
    {
      "cell_type": "markdown",
      "metadata": {
        "hidden": true
      },
      "source": [
        "#### Bin PR_cursor - Boxplot"
      ]
    },
    {
      "cell_type": "code",
      "execution_count": 21,
      "metadata": {
        "hidden": true
      },
      "outputs": [],
      "source": [
        "# PRc = PR_cursor\n",
        "uniform_bins_PRc = [0, 5, 10, 20, 30, 100]\n",
        "custom_bins_PRc = [0, 5, 25, 100]\n",
        "perc_bins_PRc = [0, 0.3, 0.7, 1]\n",
        "\n",
        "# create 'percentage' binning\n",
        "pr_max = dfe[['Production_run', 'Production_pallet']].groupby('Production_run').transform('max')\n",
        "dfe['perc_bin_PRc'] = dfe['Production_pallet'] / pr_max['Production_pallet']\n",
        "\n",
        "# create binned columns\n",
        "dfe['uni_bin_PRc'] = pd.cut(dfe['PR_cursor'], bins=uniform_bins_PRc)\n",
        "dfe['custom_bin_PRc'] = pd.cut(dfe['PR_cursor'], bins=custom_bins_PRc)\n",
        "dfe['perc_bin_PRc'] = pd.cut(dfe['perc_bin_PRc'], bins=perc_bins_PRc)"
      ]
    },
    {
      "cell_type": "code",
      "execution_count": null,
      "metadata": {
        "hidden": true,
        "scrolled": true
      },
      "outputs": [],
      "source": [
        "binned_features = ['uni_bin_PRc', 'custom_bin_PRc', 'perc_bin_PRc']\n",
        "\n",
        "for feat in binned_features:\n",
        "    boxplot_feature(dfe, feat)"
      ]
    },
    {
      "cell_type": "markdown",
      "metadata": {
        "hidden": true
      },
      "source": [
        "The binned PR cursor features don't give a clear result, so these will be removed."
      ]
    },
    {
      "cell_type": "code",
      "execution_count": 23,
      "metadata": {
        "hidden": true
      },
      "outputs": [],
      "source": [
        "# This feature didn't gave a good result, so bins are deleted\n",
        "dfe.drop(columns = ['uni_bin_PRc', 'custom_bin_PRc', 'perc_bin_PRc'], inplace=True)"
      ]
    },
    {
      "cell_type": "markdown",
      "metadata": {
        "heading_collapsed": true,
        "hidden": true
      },
      "source": [
        "## Potassium distribution per production run"
      ]
    },
    {
      "cell_type": "code",
      "execution_count": 24,
      "metadata": {
        "hidden": true
      },
      "outputs": [],
      "source": [
        "dfe_production = dfe.pivot(\"PR_cursor\", \"Production_run\", \"pos_level\")"
      ]
    },
    {
      "cell_type": "code",
      "execution_count": null,
      "metadata": {
        "hidden": true
      },
      "outputs": [],
      "source": [
        "fig = plt.figure(figsize=(14,4))\n",
        "sns.lineplot(data=dfe_production)\n",
        "plt.show()"
      ]
    },
    {
      "cell_type": "code",
      "execution_count": null,
      "metadata": {
        "hidden": true
      },
      "outputs": [],
      "source": [
        " boxplot_feature(dfe, \"Production_run\", display_samples = False)"
      ]
    },
    {
      "cell_type": "markdown",
      "metadata": {
        "heading_collapsed": true,
        "hidden": true
      },
      "source": [
        "## Sensor features"
      ]
    },
    {
      "cell_type": "markdown",
      "metadata": {
        "heading_collapsed": true,
        "hidden": true
      },
      "source": [
        "### Milk flow"
      ]
    },
    {
      "cell_type": "code",
      "execution_count": null,
      "metadata": {
        "hidden": true
      },
      "outputs": [],
      "source": [
        "fig = plt.figure(figsize=(14,4))\n",
        "sns.histplot(data=dfe, x=\"milk_flow\", kde=True, stat='percent')\n",
        "plt.show()"
      ]
    },
    {
      "cell_type": "code",
      "execution_count": null,
      "metadata": {
        "hidden": true
      },
      "outputs": [],
      "source": [
        "fig = plt.figure(figsize=(14,4))\n",
        "sns.lineplot(data=dfe, x=\"potasium\", y=\"milk_flow\")\n",
        "plt.show()"
      ]
    },
    {
      "cell_type": "code",
      "execution_count": null,
      "metadata": {
        "hidden": true,
        "scrolled": true
      },
      "outputs": [],
      "source": [
        "# Look at values that are very off\n",
        "dfe.loc[(dfe[\"milk_flow\"] < 100) | (dfe[\"milk_flow\"] > 4000)]"
      ]
    },
    {
      "cell_type": "code",
      "execution_count": 30,
      "metadata": {
        "hidden": true
      },
      "outputs": [],
      "source": [
        "dfe.drop(dfe[(dfe[\"milk_flow\"] < 100) | (dfe[\"milk_flow\"] > 4000)].index, inplace=True)\n",
        "dfe.reset_index(drop=True, inplace=True)"
      ]
    },
    {
      "cell_type": "code",
      "execution_count": null,
      "metadata": {
        "hidden": true
      },
      "outputs": [],
      "source": [
        "fig = plt.figure(figsize=(14,4))\n",
        "sns.lineplot(data=dfe, x=\"potasium\", y=\"milk_flow\")\n",
        "plt.show()"
      ]
    },
    {
      "cell_type": "code",
      "execution_count": 32,
      "metadata": {
        "hidden": true
      },
      "outputs": [],
      "source": [
        "# bin the milk flow content\n",
        "custom_milk_bins = [0, 2000, 2500, 3000]\n",
        "\n",
        "dfe['binned_milk_flow'] = pd.cut(dfe['milk_flow'], bins=custom_milk_bins)"
      ]
    },
    {
      "cell_type": "code",
      "execution_count": null,
      "metadata": {
        "hidden": true
      },
      "outputs": [],
      "source": [
        "boxplot_feature(dfe, \"binned_milk_flow\")"
      ]
    },
    {
      "cell_type": "markdown",
      "metadata": {
        "hidden": true
      },
      "source": [
        "This could be a bit of an influence, so we will keep this feature. With more milk the average is a bit higher, but it's a minor difference."
      ]
    },
    {
      "cell_type": "markdown",
      "metadata": {
        "heading_collapsed": true,
        "hidden": true
      },
      "source": [
        "### Whey flow"
      ]
    },
    {
      "cell_type": "code",
      "execution_count": null,
      "metadata": {
        "hidden": true
      },
      "outputs": [],
      "source": [
        "fig = plt.figure(figsize=(14,4))\n",
        "sns.histplot(data=dfe, x=\"whey_flow\", kde=True, stat='percent')\n",
        "plt.show()"
      ]
    },
    {
      "cell_type": "code",
      "execution_count": null,
      "metadata": {
        "hidden": true,
        "scrolled": true
      },
      "outputs": [],
      "source": [
        "fig = plt.figure(figsize=(14,4))\n",
        "sns.lineplot(data=dfe, x=\"potasium\", y=\"whey_flow\")\n",
        "plt.show()"
      ]
    },
    {
      "cell_type": "code",
      "execution_count": null,
      "metadata": {
        "hidden": true
      },
      "outputs": [],
      "source": [
        "# Look at odd values\n",
        "dfe.loc[(dfe[\"whey_flow\"] < 1000)]"
      ]
    },
    {
      "cell_type": "code",
      "execution_count": 37,
      "metadata": {
        "hidden": true
      },
      "outputs": [],
      "source": [
        "dfe.drop(dfe[dfe[\"whey_flow\"] < 1000].index, inplace=True)\n",
        "dfe.reset_index(drop=True, inplace=True)"
      ]
    },
    {
      "cell_type": "code",
      "execution_count": null,
      "metadata": {
        "hidden": true
      },
      "outputs": [],
      "source": [
        "fig = plt.figure(figsize=(14,4))\n",
        "sns.lineplot(data=dfe, x=\"potasium\", y=\"whey_flow\")\n",
        "plt.show()"
      ]
    },
    {
      "cell_type": "code",
      "execution_count": 39,
      "metadata": {
        "hidden": true
      },
      "outputs": [],
      "source": [
        "# bin the lactose content\n",
        "custom_whey_bins = [0, 3000, 4000, 5000, 6000]\n",
        "\n",
        "dfe['binned_whey_flow'] = pd.cut(dfe['whey_flow'], bins=custom_whey_bins)"
      ]
    },
    {
      "cell_type": "code",
      "execution_count": null,
      "metadata": {
        "hidden": true
      },
      "outputs": [],
      "source": [
        "boxplot_feature(dfe, \"binned_whey_flow\")"
      ]
    },
    {
      "cell_type": "markdown",
      "metadata": {
        "hidden": true
      },
      "source": [
        "Will keep this feature, can be a correlation"
      ]
    },
    {
      "cell_type": "markdown",
      "metadata": {
        "heading_collapsed": true,
        "hidden": true
      },
      "source": [
        "### Milk whey ratio"
      ]
    },
    {
      "cell_type": "code",
      "execution_count": 41,
      "metadata": {
        "hidden": true
      },
      "outputs": [],
      "source": [
        "dfe[\"milk_whey_flow_ratio\"] = dfe.apply(lambda x: x.milk_flow / (x.milk_flow + x.whey_flow) * 100, axis = 1)"
      ]
    },
    {
      "cell_type": "code",
      "execution_count": null,
      "metadata": {
        "hidden": true
      },
      "outputs": [],
      "source": [
        "fig = plt.figure(figsize=(14,4))\n",
        "sns.histplot(data=dfe, x=\"milk_whey_flow_ratio\", kde=True, stat='percent')\n",
        "plt.show()"
      ]
    },
    {
      "cell_type": "code",
      "execution_count": null,
      "metadata": {
        "hidden": true
      },
      "outputs": [],
      "source": [
        "fig = plt.figure(figsize=(14,4))\n",
        "\n",
        "sns.lineplot(data=dfe, x=\"potasium\", y=\"milk_whey_flow_ratio\")\n",
        "plt.show()"
      ]
    },
    {
      "cell_type": "code",
      "execution_count": 44,
      "metadata": {
        "hidden": true
      },
      "outputs": [],
      "source": [
        "custom_milk_whey_bins = [0, 25, 32, 40, 50]\n",
        "\n",
        "dfe[\"binned_whey_milk\"] = pd.cut(dfe[\"milk_whey_flow_ratio\"], bins=custom_milk_whey_bins) "
      ]
    },
    {
      "cell_type": "code",
      "execution_count": null,
      "metadata": {
        "hidden": true
      },
      "outputs": [],
      "source": [
        "boxplot_feature(dfe, \"binned_whey_milk\")"
      ]
    },
    {
      "cell_type": "markdown",
      "metadata": {
        "hidden": true
      },
      "source": [
        "There is not a clear correlation between potassium levels and the milk whey flow ratio"
      ]
    },
    {
      "cell_type": "markdown",
      "metadata": {
        "heading_collapsed": true,
        "hidden": true
      },
      "source": [
        "### Lactose"
      ]
    },
    {
      "cell_type": "code",
      "execution_count": null,
      "metadata": {
        "hidden": true
      },
      "outputs": [],
      "source": [
        "fig = plt.figure(figsize=(14,4))\n",
        "sns.histplot(data=dfe, x=\"lactose\", kde=True, stat='percent')\n",
        "plt.show()"
      ]
    },
    {
      "cell_type": "code",
      "execution_count": null,
      "metadata": {
        "hidden": true
      },
      "outputs": [],
      "source": [
        "fig = plt.figure(figsize=(14,4))\n",
        "sns.lineplot(data=dfe, x=\"potasium\", y=\"lactose\")\n",
        "plt.show()"
      ]
    },
    {
      "cell_type": "code",
      "execution_count": null,
      "metadata": {
        "hidden": true
      },
      "outputs": [],
      "source": [
        "dfe.loc[dfe[\"lactose\"] < 400]"
      ]
    },
    {
      "cell_type": "code",
      "execution_count": 50,
      "metadata": {
        "hidden": true
      },
      "outputs": [],
      "source": [
        "dfe.drop(dfe[dfe[\"lactose\"] < 400].index, inplace=True)\n",
        "dfe.reset_index(drop=True, inplace=True)"
      ]
    },
    {
      "cell_type": "code",
      "execution_count": null,
      "metadata": {
        "hidden": true
      },
      "outputs": [],
      "source": [
        "fig = plt.figure(figsize=(14,4))\n",
        "sns.lineplot(data=dfe, x=\"potasium\", y=\"lactose\")\n",
        "plt.show()"
      ]
    },
    {
      "cell_type": "code",
      "execution_count": 52,
      "metadata": {
        "hidden": true
      },
      "outputs": [],
      "source": [
        "# bin the lactose content\n",
        "custom_lactose_bins = [0, 650, 800, 1000]\n",
        "\n",
        "dfe['binned_lactose'] = pd.cut(dfe['lactose'], bins=custom_lactose_bins)"
      ]
    },
    {
      "cell_type": "code",
      "execution_count": null,
      "metadata": {
        "hidden": true
      },
      "outputs": [],
      "source": [
        "boxplot_feature(dfe, 'binned_lactose')"
      ]
    },
    {
      "cell_type": "markdown",
      "metadata": {
        "hidden": true
      },
      "source": [
        "Would conclude out of this that there is a correlation between the amount of lactose and the amount of potassium. When there is a lot lactose there is less potassium."
      ]
    },
    {
      "cell_type": "markdown",
      "metadata": {
        "heading_collapsed": true,
        "hidden": true
      },
      "source": [
        "### Fat flow"
      ]
    },
    {
      "cell_type": "code",
      "execution_count": null,
      "metadata": {
        "hidden": true
      },
      "outputs": [],
      "source": [
        "fig = plt.figure(figsize=(14,4))\n",
        "sns.histplot(data=dfe, x=\"fat_flow\", kde=True, stat='percent')\n",
        "plt.show()"
      ]
    },
    {
      "cell_type": "markdown",
      "metadata": {
        "hidden": true
      },
      "source": [
        "There are some outliers in this data, so these values are removed. They are probably invalid values."
      ]
    },
    {
      "cell_type": "code",
      "execution_count": null,
      "metadata": {
        "hidden": true
      },
      "outputs": [],
      "source": [
        "fig = plt.figure(figsize=(14,4))\n",
        "\n",
        "sns.lineplot(data=dfe, x=\"potassium\", y=\"fat_flow\")\n",
        "plt.show()"
      ]
    },
    {
      "cell_type": "code",
      "execution_count": null,
      "metadata": {
        "hidden": true
      },
      "outputs": [],
      "source": [
        "dfe.loc[dfe[\"fat_flow\"] < 750]"
      ]
    },
    {
      "cell_type": "code",
      "execution_count": 57,
      "metadata": {
        "hidden": true
      },
      "outputs": [],
      "source": [
        "dfe.drop(dfe[dfe[\"fat_flow\"] < 750].index, inplace=True)\n",
        "dfe.reset_index(drop=True, inplace=True)"
      ]
    },
    {
      "cell_type": "code",
      "execution_count": null,
      "metadata": {
        "hidden": true
      },
      "outputs": [],
      "source": [
        "fig = plt.figure(figsize=(14,4))\n",
        "\n",
        "sns.lineplot(data=dfe, x=\"potasium\", y=\"fat_flow\")\n",
        "plt.show()"
      ]
    },
    {
      "cell_type": "code",
      "execution_count": null,
      "metadata": {
        "hidden": true
      },
      "outputs": [],
      "source": [
        "fat_bins = [0, 1250, 1500, 1750, 2000]\n",
        "dfe['binned_fat_flow'] = pd.cut(dfe['fat_flow'], bins=fat_bins)\n",
        "boxplot_feature(dfe, 'binned_fat_flow')"
      ]
    },
    {
      "cell_type": "markdown",
      "metadata": {
        "hidden": true
      },
      "source": [
        "This gives that high fat results in low potassium levels, this could be relevant so we keep these features."
      ]
    },
    {
      "cell_type": "markdown",
      "metadata": {
        "heading_collapsed": true,
        "hidden": true
      },
      "source": [
        "### Added PotassiumChloride"
      ]
    },
    {
      "cell_type": "code",
      "execution_count": 60,
      "metadata": {
        "hidden": true
      },
      "outputs": [],
      "source": [
        "# Increasing the value, they were too small to see good realtions\n",
        "dfe['KCl'] *= 100000"
      ]
    },
    {
      "cell_type": "code",
      "execution_count": null,
      "metadata": {
        "hidden": true
      },
      "outputs": [],
      "source": [
        "fig = plt.figure(figsize=(14,4))\n",
        "sns.histplot(data=dfe, x=\"KCl\", kde=True, stat='percent')\n",
        "plt.show()"
      ]
    },
    {
      "cell_type": "code",
      "execution_count": null,
      "metadata": {
        "hidden": true
      },
      "outputs": [],
      "source": [
        "fig = plt.figure(figsize=(14,4))\n",
        "\n",
        "sns.lineplot(data=dfe, x=\"potasium\", y=\"KCl\")\n",
        "plt.show()"
      ]
    },
    {
      "cell_type": "code",
      "execution_count": null,
      "metadata": {
        "hidden": true,
        "scrolled": true
      },
      "outputs": [],
      "source": [
        "dfe.loc[dfe[\"KCl\"] == 0]"
      ]
    },
    {
      "cell_type": "markdown",
      "metadata": {
        "hidden": true
      },
      "source": [
        "From production 18 there is no Potassium Chloride added anymore, this could influence the model depending on where the split for training and test data is."
      ]
    },
    {
      "cell_type": "code",
      "execution_count": null,
      "metadata": {
        "hidden": true
      },
      "outputs": [],
      "source": [
        "added_KCl_bins = [0, 3000, 3500, 4000, 6000]\n",
        "dfe['binned_KCl'] = pd.cut(dfe['KCl'], bins=added_KCl_bins)\n",
        "boxplot_feature(dfe, 'binned_KCl')"
      ]
    },
    {
      "cell_type": "markdown",
      "metadata": {
        "hidden": true
      },
      "source": [
        "This shows that more PotassiumChloride added, gives also more potassium in the product. But values are very close to each other, so how much influence is it really?"
      ]
    },
    {
      "cell_type": "code",
      "execution_count": 65,
      "metadata": {
        "hidden": true
      },
      "outputs": [],
      "source": [
        "dfe.drop(columns = [\"binned_KCl\"], inplace=True)"
      ]
    },
    {
      "cell_type": "markdown",
      "metadata": {
        "heading_collapsed": true,
        "hidden": true
      },
      "source": [
        "### Milk Protein"
      ]
    },
    {
      "cell_type": "code",
      "execution_count": null,
      "metadata": {
        "hidden": true
      },
      "outputs": [],
      "source": [
        "fig = plt.figure(figsize=(14,4))\n",
        "sns.histplot(data = dfe, x=\"protein\", kde=True, stat='percent')\n",
        "plt.show()"
      ]
    },
    {
      "cell_type": "code",
      "execution_count": null,
      "metadata": {
        "hidden": true
      },
      "outputs": [],
      "source": [
        "fig = plt.figure(figsize=(14,4))\n",
        "\n",
        "sns.lineplot(data=dfe, x=\"potasium\", y=\"protein\")\n",
        "plt.show()"
      ]
    },
    {
      "cell_type": "code",
      "execution_count": null,
      "metadata": {
        "hidden": true
      },
      "outputs": [],
      "source": [
        "dfe.loc[dfe[\"protein\"] < 3]"
      ]
    },
    {
      "cell_type": "code",
      "execution_count": 69,
      "metadata": {
        "hidden": true
      },
      "outputs": [],
      "source": [
        "dfe.drop(dfe[dfe[\"protein\"] < 3].index, inplace=True)\n",
        "dfe.reset_index(drop=True, inplace=True)"
      ]
    },
    {
      "cell_type": "code",
      "execution_count": null,
      "metadata": {
        "hidden": true
      },
      "outputs": [],
      "source": [
        "fig = plt.figure(figsize=(14,4))\n",
        "\n",
        "sns.lineplot(data=dfe, x=\"potasium\", y=\"protein\")\n",
        "plt.show()"
      ]
    },
    {
      "cell_type": "code",
      "execution_count": null,
      "metadata": {
        "hidden": true
      },
      "outputs": [],
      "source": [
        "milk_pro_bins = [0, 3.5, 3.75, 4]\n",
        "dfe['binned_protein'] = pd.cut(dfe['protein'], bins=milk_pro_bins)\n",
        "boxplot_feature(dfe, 'binned_protein')"
      ]
    },
    {
      "cell_type": "markdown",
      "metadata": {
        "hidden": true
      },
      "source": [
        "More protein in the milk results in less potassium in the end product"
      ]
    },
    {
      "cell_type": "markdown",
      "metadata": {
        "hidden": true
      },
      "source": [
        "## KNMI features"
      ]
    },
    {
      "cell_type": "markdown",
      "metadata": {
        "heading_collapsed": true,
        "hidden": true
      },
      "source": [
        "### Temperature (KNMI)"
      ]
    },
    {
      "cell_type": "code",
      "execution_count": 72,
      "metadata": {
        "hidden": true
      },
      "outputs": [],
      "source": [
        "# add the Temperature to the original dataset\n",
        "dfe = pd.merge(dfe, knmi_df_day[['YYYYMMDD', 'temp']], how='left', left_on=['production_date'], right_on=['YYYYMMDD']) \\\n",
        "        .drop(columns=['YYYYMMDD'])"
      ]
    },
    {
      "cell_type": "code",
      "execution_count": null,
      "metadata": {
        "hidden": true
      },
      "outputs": [],
      "source": [
        "fig = plt.figure(figsize=(14,4))\n",
        "sns.histplot(data=dfe, x=\"temp\", kde=True, stat='percent', bins=10)\n",
        "plt.show()"
      ]
    },
    {
      "cell_type": "code",
      "execution_count": null,
      "metadata": {
        "hidden": true
      },
      "outputs": [],
      "source": [
        "fig = plt.figure(figsize=(14,4))\n",
        "sns.lineplot(data=dfe, x=\"potassium\", y=\"temp\")\n",
        "plt.show()"
      ]
    },
    {
      "cell_type": "code",
      "execution_count": 75,
      "metadata": {
        "hidden": true
      },
      "outputs": [],
      "source": [
        "# bin temperatures with custom bins - I tried to go with very cold, cold, cold-neutral, warm-neutral, warm, very hot\n",
        "uniform_bins_temp = [-10, 0, 10, 20, 30]\n",
        "\n",
        "dfe['uni_binned_temp'] = pd.cut(dfe['temp'], bins=uniform_bins_temp)\n",
        "dfe['q_binned_temp'] = pd.qcut(dfe['temp'], q=4)"
      ]
    },
    {
      "cell_type": "code",
      "execution_count": null,
      "metadata": {
        "hidden": true
      },
      "outputs": [],
      "source": [
        "temp_bins = ['uni_binned_temp', 'q_binned_temp']\n",
        "\n",
        "for feat in temp_bins:\n",
        "    boxplot_feature(dfe, feat, display_samples = False)"
      ]
    },
    {
      "cell_type": "markdown",
      "metadata": {
        "hidden": true
      },
      "source": [
        "If you look at uni_binned_temp, there it shows that a lower temperature has a lower potassium level. q_binned_temp doesn't give a good result so this one will be removed."
      ]
    },
    {
      "cell_type": "code",
      "execution_count": 77,
      "metadata": {
        "hidden": true
      },
      "outputs": [],
      "source": [
        "dfe.drop(columns = [\"q_binned_temp\"], inplace=True)"
      ]
    },
    {
      "cell_type": "markdown",
      "metadata": {
        "heading_collapsed": true,
        "hidden": true
      },
      "source": [
        "### Month of the year"
      ]
    },
    {
      "cell_type": "code",
      "execution_count": 41,
      "metadata": {
        "hidden": true
      },
      "outputs": [],
      "source": [
        "# Jan = 1, December = 12\n",
        "dfe['month'] = dfe['production_date'].dt.month\n",
        "\n",
        "# convert to March = 1 (starts to get warm) to February = 12 (end of cold season)\n",
        "dfe['month'] = dfe['month'] - 2\n",
        "\n",
        "# take care of negative months: January = -1 -> 11, February = 0 -> 12\n",
        "dfe.loc[dfe['month'] == -1, 'month'] = 11\n",
        "dfe.loc[dfe['month'] == 0, 'month'] = 12"
      ]
    },
    {
      "cell_type": "code",
      "execution_count": 42,
      "metadata": {
        "hidden": true
      },
      "outputs": [],
      "source": [
        "# consider also binning by seasons\n",
        "seasons = [0, 3, 6, 9 , 12]\n",
        "\n",
        "dfe['binned_month']  = pd.cut(dfe['month'], bins=seasons, labels=['warm', 'hot', 'cold','freezing'])"
      ]
    },
    {
      "cell_type": "code",
      "execution_count": null,
      "metadata": {
        "hidden": true
      },
      "outputs": [],
      "source": [
        "boxplot_feature(dfe, 'month', display_samples = True)"
      ]
    },
    {
      "cell_type": "markdown",
      "metadata": {
        "hidden": true
      },
      "source": [
        "Month 12 has relative low potassium levels, in this month only temperatures below zero are measured. So this is kind of the same explaination as the temperature discovery. \n",
        "Month 6 has relative high potassium levels, in this month the temperature was around 20 degrees. From the temperature feature it would be that this also gives high potassium levels. \n",
        "Could also be that in months with lower temperatures maybe more lactose is added, which dilutes the potassium levels."
      ]
    },
    {
      "cell_type": "markdown",
      "metadata": {
        "heading_collapsed": true,
        "hidden": true
      },
      "source": [
        "### Relative Atmosferic Humidity (KNMI)"
      ]
    },
    {
      "cell_type": "code",
      "execution_count": 81,
      "metadata": {
        "hidden": true
      },
      "outputs": [],
      "source": [
        "# add the Humidity to the original dataset\n",
        "dfe = pd.merge(dfe, knmi_df_day[['YYYYMMDD', 'humidity']], how='left', left_on=['production_date'], right_on=['YYYYMMDD']) \\\n",
        "        .drop(columns=['YYYYMMDD'])"
      ]
    },
    {
      "cell_type": "code",
      "execution_count": null,
      "metadata": {
        "hidden": true
      },
      "outputs": [],
      "source": [
        "fig = plt.figure(figsize=(14,4))\n",
        "\n",
        "custom_humidity = dfe['humidity']\n",
        "sns.histplot(x=custom_humidity, kde=True, stat='percent')\n",
        "\n",
        "N = 100\n",
        "data = plt.np.linspace(50, N, 21)\n",
        "\n",
        "plt.xticks(data) # add loads of ticks\n",
        "plt.grid()\n",
        "plt.show()"
      ]
    },
    {
      "cell_type": "code",
      "execution_count": null,
      "metadata": {
        "hidden": true
      },
      "outputs": [],
      "source": [
        "fig = plt.figure(figsize=(14,4))\n",
        "\n",
        "sns.lineplot(data=dfe, x=\"potassium\", y=\"humidity\")\n",
        "plt.show()"
      ]
    },
    {
      "cell_type": "code",
      "execution_count": null,
      "metadata": {
        "hidden": true,
        "scrolled": false
      },
      "outputs": [],
      "source": [
        "# bin humidity\n",
        "humidity_bins = [0, 75, 82, 87, 90, 100]\n",
        "dfe['binned_humidity'] = pd.cut(dfe['humidity'], bins=humidity_bins)\n",
        "\n",
        "boxplot_feature(dfe, 'binned_humidity')"
      ]
    },
    {
      "cell_type": "markdown",
      "metadata": {
        "hidden": true
      },
      "source": [
        "Will keep the humidity, because a low humidity seems to result in a low potassium."
      ]
    },
    {
      "cell_type": "markdown",
      "metadata": {
        "heading_collapsed": true,
        "hidden": true
      },
      "source": [
        "### Rolling window Humidity"
      ]
    },
    {
      "cell_type": "code",
      "execution_count": 85,
      "metadata": {
        "hidden": true
      },
      "outputs": [],
      "source": [
        "NDAYS = 10\n",
        "\n",
        "# create the average temperature over the last 10 days\n",
        "dfe['rol_humidity'] = dfe['humidity'].rolling(NDAYS).mean()"
      ]
    },
    {
      "cell_type": "code",
      "execution_count": 86,
      "metadata": {
        "hidden": true
      },
      "outputs": [],
      "source": [
        "# ONLY FOR PLOTTING\n",
        "# get rid of NaNs\n",
        "dfe_plot = dfe.dropna(how='any')"
      ]
    },
    {
      "cell_type": "code",
      "execution_count": null,
      "metadata": {
        "hidden": true
      },
      "outputs": [],
      "source": [
        "fig = plt.figure(figsize=(14,4))\n",
        "sns.lineplot(data=dfe_plot, x=\"potassium\", y=\"rol_humidity\")\n",
        "plt.show()"
      ]
    },
    {
      "cell_type": "code",
      "execution_count": null,
      "metadata": {
        "hidden": true
      },
      "outputs": [],
      "source": [
        "fig = plt.figure(figsize=(14,4))\n",
        "sns.histplot(x=dfe['rol_humidity'], kde=True, stat='percent')\n",
        "plt.show()"
      ]
    },
    {
      "cell_type": "code",
      "execution_count": 89,
      "metadata": {
        "hidden": true
      },
      "outputs": [],
      "source": [
        "# bin temperatures with custom bins - I tried to go with very cold, cold, cold-neutral, warm-neutral, warm, very hot\n",
        "bins_rol_humidity = [50, 75, 80, 87, 90, 100]\n",
        "dfe['binned_rol_humidity'] = pd.cut(dfe['rol_humidity'], bins=bins_rol_humidity)"
      ]
    },
    {
      "cell_type": "code",
      "execution_count": null,
      "metadata": {
        "hidden": true
      },
      "outputs": [],
      "source": [
        "boxplot_feature(dfe, 'binned_rol_humidity')"
      ]
    },
    {
      "cell_type": "markdown",
      "metadata": {
        "hidden": true
      },
      "source": [
        "This shows that a lower humidity over the past 10 days, could give lower potassium levels."
      ]
    },
    {
      "cell_type": "markdown",
      "metadata": {
        "heading_collapsed": true,
        "hidden": true
      },
      "source": [
        "### Rolling window Temperature"
      ]
    },
    {
      "cell_type": "code",
      "execution_count": 91,
      "metadata": {
        "hidden": true
      },
      "outputs": [],
      "source": [
        "NDAYS = 10\n",
        "\n",
        "# create the average temperature over the last 10 days\n",
        "dfe['rol_temp'] = dfe['temp'].rolling(NDAYS).mean()"
      ]
    },
    {
      "cell_type": "code",
      "execution_count": 92,
      "metadata": {
        "hidden": true
      },
      "outputs": [],
      "source": [
        "# ONLY FOR PLOTTING\n",
        "# get rid of NaNs\n",
        "dfe_plot = dfe.dropna(how='any')"
      ]
    },
    {
      "cell_type": "code",
      "execution_count": null,
      "metadata": {
        "hidden": true
      },
      "outputs": [],
      "source": [
        "fig = plt.figure(figsize=(14,4))\n",
        "sns.lineplot(data=dfe_plot, x=\"potassium\", y=\"rol_temp\")\n",
        "plt.show()"
      ]
    },
    {
      "cell_type": "code",
      "execution_count": null,
      "metadata": {
        "hidden": true,
        "scrolled": false
      },
      "outputs": [],
      "source": [
        "fig = plt.figure(figsize=(14,4))\n",
        "sns.histplot(x=dfe['rol_temp'], kde=True, stat='percent')\n",
        "plt.show()"
      ]
    },
    {
      "cell_type": "code",
      "execution_count": 95,
      "metadata": {
        "hidden": true
      },
      "outputs": [],
      "source": [
        "# bin temperatures with custom bins - I tried to go with very cold, cold, cold-neutral, warm-neutral, warm, very hot\n",
        "bins_rol_temp = [-10, 0, 10, 20, 30]\n",
        "dfe['binned_rol_temp'] = pd.cut(dfe['rol_temp'], bins=bins_rol_temp)"
      ]
    },
    {
      "cell_type": "code",
      "execution_count": null,
      "metadata": {
        "hidden": true
      },
      "outputs": [],
      "source": [
        "boxplot_feature(dfe, 'binned_rol_temp')"
      ]
    },
    {
      "cell_type": "markdown",
      "metadata": {},
      "source": [
        "# Add data to original dataframe"
      ]
    },
    {
      "cell_type": "code",
      "execution_count": 19,
      "metadata": {
        "code_folding": [
          1
        ]
      },
      "outputs": [],
      "source": [
        "# Temperature\n",
        "df = pd.merge(df, knmi_df_day[['YYYYMMDD', 'temp']], how='left', left_on=['production_date'], right_on=['YYYYMMDD']) \\\n",
        "        .drop(columns=['YYYYMMDD'])"
      ]
    },
    {
      "cell_type": "code",
      "execution_count": 20,
      "metadata": {},
      "outputs": [],
      "source": [
        "NDAYS = 10\n",
        "# create the average temperature over the last 10 days\n",
        "df['rol_temp'] = df['temp'].rolling(NDAYS).mean()"
      ]
    },
    {
      "cell_type": "code",
      "execution_count": 21,
      "metadata": {},
      "outputs": [],
      "source": [
        "# Humidity\n",
        "df = pd.merge(df, knmi_df_day[['YYYYMMDD', 'humidity']], how='left', left_on=['production_date'], right_on=['YYYYMMDD']) \\\n",
        "        .drop(columns=['YYYYMMDD'])"
      ]
    },
    {
      "cell_type": "code",
      "execution_count": 22,
      "metadata": {},
      "outputs": [],
      "source": [
        "df['rol_humidity'] = df['humidity'].rolling(NDAYS).mean()"
      ]
    },
    {
      "cell_type": "code",
      "execution_count": 23,
      "metadata": {},
      "outputs": [],
      "source": [
        "# seasonal month\n",
        "\n",
        "# Jan = 1, December = 12\n",
        "df['month'] = df['month'].dt.month\n",
        "\n",
        "# convert to March = 1 (starts to get warm) to February = 12 (end of cold season)\n",
        "df['month'] = df['month'] - 2\n",
        "\n",
        "# take care of negative months: January = -1 -> 11, February = 0 -> 12\n",
        "df.loc[df['month'] == -1, 'month'] = 11\n",
        "df.loc[df['month'] == 0, 'month'] = 12"
      ]
    },
    {
      "cell_type": "markdown",
      "metadata": {},
      "source": [
        "# Feature Correlation with Target Variable"
      ]
    },
    {
      "cell_type": "markdown",
      "metadata": {},
      "source": [
        "Drop all unused columns here"
      ]
    },
    {
      "cell_type": "code",
      "execution_count": 25,
      "metadata": {},
      "outputs": [],
      "source": [
        "df_corr = df.corr()['potassium'].sort_values(ascending=False)[1:].dropna()"
      ]
    },
    {
      "cell_type": "code",
      "execution_count": null,
      "metadata": {
        "scrolled": false
      },
      "outputs": [],
      "source": [
        "plt.title(\"Correlation of each feature with potassium\")\n",
        "df_corr.plot.barh(figsize=(10,8));"
      ]
    },
    {
      "cell_type": "code",
      "execution_count": 31,
      "metadata": {},
      "outputs": [],
      "source": [
        "corr_df = df[[\"potassium\", \"lactose\", \"month\", \"fat\", \"protein\", \"KCl\", \"whey_flow\", \"milk_flow\", \"rol_humidity\", \"rol_temp\"]]"
      ]
    },
    {
      "cell_type": "code",
      "execution_count": 34,
      "metadata": {},
      "outputs": [],
      "source": [
        "corr_df = corr_df.corr()\n",
        "abs_corr_df = corr_df.abs()"
      ]
    },
    {
      "cell_type": "code",
      "execution_count": null,
      "metadata": {},
      "outputs": [],
      "source": [
        "sns.set(rc = {'figure.figsize':(9,8)})\n",
        "plt.title(\"Correlation graph between features\")\n",
        "sns.heatmap(abs_corr_df)"
      ]
    }
  ],
  "metadata": {
    "createdOn": 1647596482902,
    "creator": "EgginM01",
    "customFields": {},
    "hide_input": false,
    "kernelspec": {
      "display_name": "Python in heavy-notebook (env coe_quality_bedum)",
      "language": "python",
      "name": "py-dku-containerized-venv-coe_quality_bedum-heavy-notebook"
    },
    "language_info": {
      "codemirror_mode": {
        "name": "ipython",
        "version": 3
      },
      "file_extension": ".py",
      "mimetype": "text/x-python",
      "name": "python",
      "nbconvert_exporter": "python",
      "pygments_lexer": "ipython3",
      "version": "3.6.8"
    },
    "modifiedBy": "EgginM01",
    "tags": []
  },
  "nbformat": 4,
  "nbformat_minor": 1
}
